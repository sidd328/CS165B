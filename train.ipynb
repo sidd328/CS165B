{
 "cells": [
  {
   "cell_type": "code",
   "execution_count": null,
   "metadata": {
    "colab": {
     "base_uri": "https://localhost:8080/"
    },
    "executionInfo": {
     "elapsed": 7482,
     "status": "ok",
     "timestamp": 1653754033985,
     "user": {
      "displayName": "Kaustubh Deshpande",
      "userId": "06528968480355418422"
     },
     "user_tz": 420
    },
    "id": "PWtDQdXsnFoi",
    "outputId": "3bd912e9-a5ad-4ebe-9526-45baa1b3549e"
   },
   "outputs": [
    {
     "name": "stdout",
     "output_type": "stream",
     "text": [
      "Looking in indexes: https://pypi.org/simple, https://us-python.pkg.dev/colab-wheels/public/simple/\n",
      "Collecting einops\n",
      "  Downloading einops-0.4.1-py3-none-any.whl (28 kB)\n",
      "Installing collected packages: einops\n",
      "Successfully installed einops-0.4.1\n"
     ]
    }
   ],
   "source": []
  },
  {
   "cell_type": "code",
   "execution_count": 3,
   "metadata": {
    "executionInfo": {
     "elapsed": 1779,
     "status": "ok",
     "timestamp": 1653754323996,
     "user": {
      "displayName": "Kaustubh Deshpande",
      "userId": "06528968480355418422"
     },
     "user_tz": 420
    },
    "id": "_4Aqbk2InXX3"
   },
   "outputs": [],
   "source": [
    "import torch\n",
    "import torch.nn as nn\n",
    "import torch.nn.functional as F\n",
    "import torch.optim as optim\n",
    "import torch.utils.data as data\n",
    "\n",
    "import torchvision.transforms as transforms\n",
    "import torchvision.datasets as datasets\n",
    "\n",
    "from sklearn import metrics\n",
    "from sklearn import decomposition\n",
    "from sklearn import manifold\n",
    "from tqdm.notebook import trange, tqdm\n",
    "import matplotlib.pyplot as plt\n",
    "import numpy as np\n",
    "\n",
    "import copy\n",
    "import random\n",
    "import time\n",
    "import os"
   ]
  },
  {
   "cell_type": "code",
   "execution_count": 4,
   "metadata": {
    "executionInfo": {
     "elapsed": 884,
     "status": "ok",
     "timestamp": 1653754325900,
     "user": {
      "displayName": "Kaustubh Deshpande",
      "userId": "06528968480355418422"
     },
     "user_tz": 420
    },
    "id": "G3Iv2YRQlYx7"
   },
   "outputs": [],
   "source": [
    "import torch\n",
    "import torch.nn.functional as F\n",
    "\n",
    "from torch import nn\n",
    "from einops import rearrange\n",
    "\n",
    "class Residual(nn.Module):\n",
    "    def __init__(self, fn):\n",
    "        super().__init__()\n",
    "        self.fn = fn\n",
    "\n",
    "    def forward(self, x, **kwargs):\n",
    "        return self.fn(x, **kwargs) + x\n",
    "\n",
    "class PreNorm(nn.Module):\n",
    "    def __init__(self, dim, fn):\n",
    "        super().__init__()\n",
    "        self.norm = nn.LayerNorm(dim)\n",
    "        self.fn = fn\n",
    "\n",
    "    def forward(self, x, **kwargs):\n",
    "        return self.fn(self.norm(x), **kwargs)\n",
    "\n",
    "class FeedForward(nn.Module):\n",
    "    def __init__(self, dim, hidden_dim):\n",
    "        super().__init__()\n",
    "        self.net = nn.Sequential(\n",
    "            nn.Linear(dim, hidden_dim),\n",
    "            nn.GELU(),\n",
    "            nn.Linear(hidden_dim, dim)\n",
    "        )\n",
    "\n",
    "    def forward(self, x):\n",
    "        return self.net(x)\n",
    "\n",
    "class Attention(nn.Module):\n",
    "    def __init__(self, dim, heads=8):\n",
    "        super().__init__()\n",
    "        self.heads = heads\n",
    "        self.scale = dim ** -0.5\n",
    "\n",
    "        self.to_qkv = nn.Linear(dim, dim * 3, bias=False)\n",
    "        self.to_out = nn.Linear(dim, dim)\n",
    "\n",
    "    def forward(self, x, mask = None):\n",
    "        b, n, _, h = *x.shape, self.heads\n",
    "        qkv = self.to_qkv(x)\n",
    "        q, k, v = rearrange(qkv, 'b n (qkv h d) -> qkv b h n d', qkv=3, h=h)\n",
    "\n",
    "        dots = torch.einsum('bhid,bhjd->bhij', q, k) * self.scale\n",
    "\n",
    "        if mask is not None:\n",
    "            mask = F.pad(mask.flatten(1), (1, 0), value = True)\n",
    "            assert mask.shape[-1] == dots.shape[-1], 'mask has incorrect dimensions'\n",
    "            mask = mask[:, None, :] * mask[:, :, None]\n",
    "            dots.masked_fill_(~mask, float('-inf'))\n",
    "            del mask\n",
    "\n",
    "        attn = dots.softmax(dim=-1)\n",
    "\n",
    "        out = torch.einsum('bhij,bhjd->bhid', attn, v)\n",
    "        out = rearrange(out, 'b h n d -> b n (h d)')\n",
    "        out =  self.to_out(out)\n",
    "        return out\n",
    "\n",
    "class Transformer(nn.Module):\n",
    "    def __init__(self, dim, depth, heads, mlp_dim):\n",
    "        super().__init__()\n",
    "        self.layers = nn.ModuleList([])\n",
    "        for _ in range(depth):\n",
    "            self.layers.append(nn.ModuleList([\n",
    "                Residual(PreNorm(dim, Attention(dim, heads = heads))),\n",
    "                Residual(PreNorm(dim, FeedForward(dim, mlp_dim)))\n",
    "            ]))\n",
    "\n",
    "    def forward(self, x, mask=None):\n",
    "        for attn, ff in self.layers:\n",
    "            x = attn(x, mask=mask)\n",
    "            x = ff(x)\n",
    "        return x\n",
    "\n",
    "class ViT(nn.Module):\n",
    "    def __init__(self, *, image_size, patch_size, num_classes, dim, depth, heads, mlp_dim, channels=3):\n",
    "        super().__init__()\n",
    "        assert image_size % patch_size == 0, 'image dimensions must be divisible by the patch size'\n",
    "        num_patches = (image_size // patch_size) ** 2\n",
    "        patch_dim = channels * patch_size ** 2\n",
    "\n",
    "        self.patch_size = patch_size\n",
    "\n",
    "        self.pos_embedding = nn.Parameter(torch.randn(1, num_patches + 1, dim))\n",
    "        self.patch_to_embedding = nn.Linear(patch_dim, dim)\n",
    "        self.cls_token = nn.Parameter(torch.randn(1, 1, dim))\n",
    "        self.transformer = Transformer(dim, depth, heads, mlp_dim)\n",
    "\n",
    "        self.to_cls_token = nn.Identity()\n",
    "\n",
    "        self.mlp_head = nn.Sequential(\n",
    "            nn.Linear(dim, mlp_dim),\n",
    "            nn.GELU(),\n",
    "            nn.Linear(mlp_dim, num_classes)\n",
    "        )\n",
    "\n",
    "    def forward(self, img, mask=None):\n",
    "        p = self.patch_size\n",
    "\n",
    "        x = rearrange(img, 'b c (h p1) (w p2) -> b (h w) (p1 p2 c)', p1 = p, p2 = p)\n",
    "        x = self.patch_to_embedding(x)\n",
    "\n",
    "        cls_tokens = self.cls_token.expand(img.shape[0], -1, -1)\n",
    "        x = torch.cat((cls_tokens, x), dim=1)\n",
    "        x += self.pos_embedding\n",
    "        x = self.transformer(x, mask)\n",
    "\n",
    "        x = self.to_cls_token(x[:, 0])\n",
    "        return self.mlp_head(x)"
   ]
  },
  {
   "cell_type": "code",
   "execution_count": 31,
   "metadata": {
    "colab": {
     "base_uri": "https://localhost:8080/"
    },
    "executionInfo": {
     "elapsed": 20136,
     "status": "ok",
     "timestamp": 1653754244894,
     "user": {
      "displayName": "Kaustubh Deshpande",
      "userId": "06528968480355418422"
     },
     "user_tz": 420
    },
    "id": "IFqzVGt_bcrY",
    "outputId": "77ddaad6-91c8-4892-deff-12e6dc46b11e"
   },
   "outputs": [
    {
     "name": "stdout",
     "output_type": "stream",
     "text": [
      "C:\\Users\\sidd3\\Documents\\UCSB\\Spring 2022\\CS165B\\HW4\\hw4_train\n"
     ]
    },
    {
     "name": "stderr",
     "output_type": "stream",
     "text": [
      "'rm' is not recognized as an internal or external command,\n",
      "operable program or batch file.\n",
      "FIND: Parameter format not correct\n"
     ]
    },
    {
     "name": "stdout",
     "output_type": "stream",
     "text": [
      "C:\\Users\\sidd3\\Documents\\UCSB\\Spring 2022\\CS165B\\HW4\n"
     ]
    },
    {
     "name": "stderr",
     "output_type": "stream",
     "text": [
      "'ls' is not recognized as an internal or external command,\n",
      "operable program or batch file.\n"
     ]
    }
   ],
   "source": [
    "# from google.colab import drive\n",
    "# drive.mount('/content/gdrive')\n",
    "# %cd hw4_train\n",
    "# !rm -r .data\n",
    "# !find . -name '.DS_Store' -type f -delete\n",
    "# !ls -a\n",
    "# %cd .."
   ]
  },
  {
   "cell_type": "code",
   "execution_count": 5,
   "metadata": {
    "executionInfo": {
     "elapsed": 1551,
     "status": "ok",
     "timestamp": 1653754427470,
     "user": {
      "displayName": "Kaustubh Deshpande",
      "userId": "06528968480355418422"
     },
     "user_tz": 420
    },
    "id": "aVSaiXvnlASh"
   },
   "outputs": [],
   "source": [
    "main_dir = \"hw4_train\"\n",
    "\n",
    "from torchvision.datasets import ImageFolder\n",
    "from torchvision.transforms import ToTensor\n",
    "\n",
    "\n",
    "# data_transform = transforms.Compose([transforms.Grayscale(num_output_channels=1),\n",
    "#                                      transforms.ToTensor()])\n",
    "\n",
    "train_transforms = transforms.Compose([transforms.Grayscale(num_output_channels=1),\n",
    "                            transforms.RandomRotation(5, fill=(0,)),\n",
    "                            transforms.RandomCrop(28, padding=2),\n",
    "                            transforms.ToTensor(),\n",
    "                            transforms.Normalize(mean=0.1793, std=0.2323)\n",
    "                                      ])\n",
    "\n",
    "test_transforms = transforms.Compose([\n",
    "                           transforms.ToTensor(),\n",
    "                           transforms.Normalize(mean=0.1793, std=0.2323)\n",
    "                                     ])\n",
    "\n",
    "train_data = ImageFolder(main_dir, transform=train_transforms)"
   ]
  },
  {
   "cell_type": "code",
   "execution_count": 6,
   "metadata": {
    "colab": {
     "base_uri": "https://localhost:8080/"
    },
    "executionInfo": {
     "elapsed": 184,
     "status": "ok",
     "timestamp": 1653754436747,
     "user": {
      "displayName": "Kaustubh Deshpande",
      "userId": "06528968480355418422"
     },
     "user_tz": 420
    },
    "id": "uBpuQEsScPhM",
    "outputId": "65cc603d-b32b-42ce-c4bd-7cc2f5233305"
   },
   "outputs": [
    {
     "data": {
      "text/plain": [
       "['0', '1', '2', '3', '4', '5', '6', '7', '8', '9']"
      ]
     },
     "execution_count": 6,
     "metadata": {},
     "output_type": "execute_result"
    }
   ],
   "source": [
    "train_data.classes"
   ]
  },
  {
   "cell_type": "code",
   "execution_count": 7,
   "metadata": {
    "colab": {
     "base_uri": "https://localhost:8080/"
    },
    "executionInfo": {
     "elapsed": 367,
     "status": "ok",
     "timestamp": 1653754438044,
     "user": {
      "displayName": "Kaustubh Deshpande",
      "userId": "06528968480355418422"
     },
     "user_tz": 420
    },
    "id": "2nwpSDDcBTfW",
    "outputId": "f7788065-4a4a-4f56-96f3-753a1ab57058"
   },
   "outputs": [
    {
     "name": "stdout",
     "output_type": "stream",
     "text": [
      "<torch.utils.data.dataloader.DataLoader object at 0x000002A579E92A30>\n",
      "Mean tensor(-0.0330)\n",
      "Std tensor(0.9696)\n"
     ]
    }
   ],
   "source": [
    "from torch.utils.data import DataLoader \n",
    "\n",
    "loader = DataLoader(train_data, batch_size=1, num_workers=4)\n",
    "print(loader)\n",
    "\n",
    "mstd = next(iter(loader))\n",
    "print(\"Mean\", mstd[0].mean())\n",
    "print(\"Std\",  mstd[0].std())"
   ]
  },
  {
   "cell_type": "code",
   "execution_count": 8,
   "metadata": {
    "executionInfo": {
     "elapsed": 176,
     "status": "ok",
     "timestamp": 1653754475045,
     "user": {
      "displayName": "Kaustubh Deshpande",
      "userId": "06528968480355418422"
     },
     "user_tz": 420
    },
    "id": "w9O2r2afoOeW"
   },
   "outputs": [],
   "source": [
    "VALID_RATIO = 0.9\n",
    "\n",
    "n_train_examples = int(len(train_data) * VALID_RATIO)\n",
    "n_valid_examples = len(train_data) - n_train_examples"
   ]
  },
  {
   "cell_type": "code",
   "execution_count": 9,
   "metadata": {
    "executionInfo": {
     "elapsed": 216,
     "status": "ok",
     "timestamp": 1653754476428,
     "user": {
      "displayName": "Kaustubh Deshpande",
      "userId": "06528968480355418422"
     },
     "user_tz": 420
    },
    "id": "lLpZxO8goPAC"
   },
   "outputs": [],
   "source": [
    "train_data, valid_data = torch.utils.data.random_split(train_data,\n",
    "                                           [n_train_examples, n_valid_examples])"
   ]
  },
  {
   "cell_type": "code",
   "execution_count": 10,
   "metadata": {
    "executionInfo": {
     "elapsed": 355,
     "status": "ok",
     "timestamp": 1653754478022,
     "user": {
      "displayName": "Kaustubh Deshpande",
      "userId": "06528968480355418422"
     },
     "user_tz": 420
    },
    "id": "wX_gTRDcoynD"
   },
   "outputs": [],
   "source": [
    "valid_data = copy.deepcopy(valid_data)\n",
    "valid_data.dataset.transform = train_transforms"
   ]
  },
  {
   "cell_type": "code",
   "execution_count": 11,
   "metadata": {
    "executionInfo": {
     "elapsed": 182,
     "status": "ok",
     "timestamp": 1653754480104,
     "user": {
      "displayName": "Kaustubh Deshpande",
      "userId": "06528968480355418422"
     },
     "user_tz": 420
    },
    "id": "Ig42pKIso6Zx"
   },
   "outputs": [],
   "source": [
    "BATCH_SIZE = 64\n",
    "\n",
    "train_iterator = torch.utils.data.DataLoader(train_data,\n",
    "                                 shuffle=True,\n",
    "                                 batch_size=BATCH_SIZE,)\n",
    "\n",
    "valid_iterator = torch.utils.data.DataLoader(valid_data,\n",
    "                                 batch_size=BATCH_SIZE,)\n",
    "\n",
    "# test_iterator = data.DataLoader(test_data,\n",
    "#                                 batch_size=BATCH_SIZE)"
   ]
  },
  {
   "cell_type": "code",
   "execution_count": 12,
   "metadata": {
    "colab": {
     "base_uri": "https://localhost:8080/",
     "height": 480
    },
    "executionInfo": {
     "elapsed": 387,
     "status": "error",
     "timestamp": 1653754501220,
     "user": {
      "displayName": "Kaustubh Deshpande",
      "userId": "06528968480355418422"
     },
     "user_tz": 420
    },
    "id": "IxlekBM_LWdV",
    "outputId": "8e6bfb3d-099b-4e0b-d5b4-b651803a023f"
   },
   "outputs": [
    {
     "data": {
      "image/png": "[encoded data removed]",
      "text/plain": [
       "<Figure size 432x288 with 1 Axes>"
      ]
     },
     "metadata": {
      "needs_background": "light"
     },
     "output_type": "display_data"
    },
    {
     "ename": "AttributeError",
     "evalue": "'int' object has no attribute 'numpy'",
     "output_type": "error",
     "traceback": [
      "\u001b[1;31m---------------------------------------------------------------------------\u001b[0m",
      "\u001b[1;31mAttributeError\u001b[0m                            Traceback (most recent call last)",
      "\u001b[1;32m<ipython-input-12-940fcfa6cc4e>\u001b[0m in \u001b[0;36m<module>\u001b[1;34m\u001b[0m\n\u001b[0;32m      1\u001b[0m \u001b[1;32mfor\u001b[0m \u001b[0mx\u001b[0m \u001b[1;32min\u001b[0m \u001b[0mtrain_data\u001b[0m\u001b[1;33m[\u001b[0m\u001b[1;36m0\u001b[0m\u001b[1;33m]\u001b[0m\u001b[1;33m:\u001b[0m\u001b[1;33m\u001b[0m\u001b[1;33m\u001b[0m\u001b[0m\n\u001b[1;32m----> 2\u001b[1;33m   \u001b[0marr\u001b[0m \u001b[1;33m=\u001b[0m \u001b[0mx\u001b[0m\u001b[1;33m.\u001b[0m\u001b[0mnumpy\u001b[0m\u001b[1;33m(\u001b[0m\u001b[1;33m)\u001b[0m\u001b[1;33m\u001b[0m\u001b[1;33m\u001b[0m\u001b[0m\n\u001b[0m\u001b[0;32m      3\u001b[0m   \u001b[0marr_\u001b[0m \u001b[1;33m=\u001b[0m \u001b[0mnp\u001b[0m\u001b[1;33m.\u001b[0m\u001b[0msqueeze\u001b[0m\u001b[1;33m(\u001b[0m\u001b[0marr\u001b[0m\u001b[1;33m)\u001b[0m\u001b[1;33m\u001b[0m\u001b[1;33m\u001b[0m\u001b[0m\n\u001b[0;32m      4\u001b[0m   \u001b[0mplt\u001b[0m\u001b[1;33m.\u001b[0m\u001b[0mimshow\u001b[0m\u001b[1;33m(\u001b[0m\u001b[0marr_\u001b[0m\u001b[1;33m,\u001b[0m \u001b[0mcmap\u001b[0m\u001b[1;33m=\u001b[0m\u001b[1;34m'gray'\u001b[0m\u001b[1;33m)\u001b[0m\u001b[1;33m\u001b[0m\u001b[1;33m\u001b[0m\u001b[0m\n\u001b[0;32m      5\u001b[0m   \u001b[0mplt\u001b[0m\u001b[1;33m.\u001b[0m\u001b[0mshow\u001b[0m\u001b[1;33m(\u001b[0m\u001b[1;33m)\u001b[0m\u001b[1;33m\u001b[0m\u001b[1;33m\u001b[0m\u001b[0m\n",
      "\u001b[1;31mAttributeError\u001b[0m: 'int' object has no attribute 'numpy'"
     ]
    }
   ],
   "source": [
    "for x in train_data[0]:\n",
    "  arr = x.numpy()\n",
    "  arr_ = np.squeeze(arr)\n",
    "  plt.imshow(arr_, cmap='gray')\n",
    "  plt.show()\n"
   ]
  },
  {
   "cell_type": "code",
   "execution_count": null,
   "metadata": {
    "executionInfo": {
     "elapsed": 181,
     "status": "ok",
     "timestamp": 1653754507182,
     "user": {
      "displayName": "Kaustubh Deshpande",
      "userId": "06528968480355418422"
     },
     "user_tz": 420
    },
    "id": "Fn-mOcjJpGC7"
   },
   "outputs": [],
   "source": [
    "def train_epoch(model, optimizer, data_loader, loss_history):\n",
    "    total_samples = len(data_loader.dataset)\n",
    "    model.train()\n",
    "\n",
    "    for i, (data, target) in enumerate(data_loader):\n",
    "        optimizer.zero_grad()\n",
    "        output = F.log_softmax(model(data), dim=1)\n",
    "        loss = F.nll_loss(output, target)\n",
    "        loss.backward()\n",
    "        optimizer.step()\n",
    "        if i == 5:\n",
    "            break\n",
    "\n",
    "        if i % 100 == 0:\n",
    "            print('[' +  '{:5}'.format(i * len(data)) + '/' + '{:5}'.format(total_samples) +\n",
    "                  ' (' + '{:3.0f}'.format(100 * i / len(data_loader)) + '%)]  Loss: ' +\n",
    "                  '{:6.4f}'.format(loss.item()))\n",
    "            loss_history.append(loss.item())"
   ]
  },
  {
   "cell_type": "code",
   "execution_count": null,
   "metadata": {
    "executionInfo": {
     "elapsed": 162,
     "status": "ok",
     "timestamp": 1653754553621,
     "user": {
      "displayName": "Kaustubh Deshpande",
      "userId": "06528968480355418422"
     },
     "user_tz": 420
    },
    "id": "vpzqzeeeqkGD"
   },
   "outputs": [],
   "source": [
    "def evaluate(model, data_loader, loss_history):\n",
    "    model.eval()\n",
    "    \n",
    "    total_samples = len(data_loader.dataset)\n",
    "    correct_samples = 0\n",
    "    total_loss = 0\n",
    "\n",
    "    with torch.no_grad():\n",
    "        for data, target in data_loader:\n",
    "            output = F.log_softmax(model(data), dim=1)\n",
    "            loss = F.nll_loss(output, target, reduction='sum')\n",
    "            _, pred = torch.max(output, dim=1)\n",
    "            \n",
    "            total_loss += loss.item()\n",
    "            correct_samples += pred.eq(target).sum()\n",
    "\n",
    "    avg_loss = total_loss / total_samples\n",
    "    loss_history.append(avg_loss)\n",
    "    print('\\nAverage validation loss: ' + '{:.4f}'.format(avg_loss) +\n",
    "          '  Accuracy:' + '{:5}'.format(correct_samples) + '/' +\n",
    "          '{:5}'.format(total_samples) + ' (' +\n",
    "          '{:4.2f}'.format(100.0 * correct_samples / total_samples) + '%)\\n')\n",
    "    return avg_loss"
   ]
  },
  {
   "cell_type": "code",
   "execution_count": null,
   "metadata": {
    "colab": {
     "base_uri": "https://localhost:8080/"
    },
    "id": "cMN8bOIYpNRt",
    "outputId": "84578b86-f98b-4084-bfc1-a99749bfe6c8"
   },
   "outputs": [
    {
     "name": "stdout",
     "output_type": "stream",
     "text": [
      "Epoch: 1\n",
      "[    0/45360 (  0%)]  Loss: 2.4268\n",
      "\n",
      "Average validation loss: 2.1541  Accuracy: 1078/ 5040 (21.39%)\n",
      "\n",
      "New best loss & New model saved\n",
      "Epoch: 2\n",
      "[    0/45360 (  0%)]  Loss: 2.2780\n",
      "\n",
      "Average validation loss: 2.0990  Accuracy:  925/ 5040 (18.35%)\n",
      "\n",
      "New best loss & New model saved\n",
      "Epoch: 3\n",
      "[    0/45360 (  0%)]  Loss: 2.0830\n",
      "\n",
      "Average validation loss: 1.9311  Accuracy: 1244/ 5040 (24.68%)\n",
      "\n",
      "New best loss & New model saved\n",
      "Epoch: 4\n",
      "[    0/45360 (  0%)]  Loss: 1.8925\n",
      "\n",
      "Average validation loss: 1.9005  Accuracy: 1378/ 5040 (27.34%)\n",
      "\n",
      "New best loss & New model saved\n",
      "Epoch: 5\n",
      "[    0/45360 (  0%)]  Loss: 1.8852\n",
      "\n",
      "Average validation loss: 1.7722  Accuracy: 1679/ 5040 (33.31%)\n",
      "\n",
      "New best loss & New model saved\n",
      "Epoch: 6\n",
      "[    0/45360 (  0%)]  Loss: 1.7722\n",
      "\n",
      "Average validation loss: 1.5590  Accuracy: 1892/ 5040 (37.54%)\n",
      "\n",
      "New best loss & New model saved\n",
      "Epoch: 7\n",
      "[    0/45360 (  0%)]  Loss: 1.6760\n",
      "\n",
      "Average validation loss: 1.6262  Accuracy: 1657/ 5040 (32.88%)\n",
      "\n",
      "Epoch: 8\n",
      "[    0/45360 (  0%)]  Loss: 1.8275\n",
      "\n",
      "Average validation loss: 1.5790  Accuracy: 1960/ 5040 (38.89%)\n",
      "\n",
      "Epoch: 9\n",
      "[    0/45360 (  0%)]  Loss: 1.5787\n",
      "\n",
      "Average validation loss: 1.4484  Accuracy: 1961/ 5040 (38.91%)\n",
      "\n",
      "New best loss & New model saved\n",
      "Epoch: 10\n",
      "[    0/45360 (  0%)]  Loss: 1.5230\n",
      "\n",
      "Average validation loss: 1.3392  Accuracy: 2112/ 5040 (41.90%)\n",
      "\n",
      "New best loss & New model saved\n",
      "Epoch: 11\n",
      "[    0/45360 (  0%)]  Loss: 1.3435\n",
      "\n",
      "Average validation loss: 1.5910  Accuracy: 1895/ 5040 (37.60%)\n",
      "\n",
      "Epoch: 12\n",
      "[    0/45360 (  0%)]  Loss: 1.5512\n",
      "\n",
      "Average validation loss: 1.3733  Accuracy: 2072/ 5040 (41.11%)\n",
      "\n",
      "Epoch: 13\n",
      "[    0/45360 (  0%)]  Loss: 1.3636\n",
      "\n",
      "Average validation loss: 1.3696  Accuracy: 2180/ 5040 (43.25%)\n",
      "\n",
      "Epoch: 14\n",
      "[    0/45360 (  0%)]  Loss: 1.5230\n",
      "\n",
      "Average validation loss: 1.3148  Accuracy: 2298/ 5040 (45.60%)\n",
      "\n",
      "New best loss & New model saved\n",
      "Epoch: 15\n",
      "[    0/45360 (  0%)]  Loss: 1.3711\n",
      "\n",
      "Average validation loss: 1.2961  Accuracy: 2244/ 5040 (44.52%)\n",
      "\n",
      "New best loss & New model saved\n",
      "Epoch: 16\n",
      "[    0/45360 (  0%)]  Loss: 1.2316\n",
      "\n",
      "Average validation loss: 1.2475  Accuracy: 2397/ 5040 (47.56%)\n",
      "\n",
      "New best loss & New model saved\n",
      "Epoch: 17\n",
      "[    0/45360 (  0%)]  Loss: 1.2785\n",
      "\n",
      "Average validation loss: 1.2680  Accuracy: 2427/ 5040 (48.15%)\n",
      "\n",
      "Epoch: 18\n",
      "[    0/45360 (  0%)]  Loss: 1.3117\n",
      "\n",
      "Average validation loss: 1.2415  Accuracy: 2306/ 5040 (45.75%)\n",
      "\n",
      "New best loss & New model saved\n",
      "Epoch: 19\n",
      "[    0/45360 (  0%)]  Loss: 1.2786\n",
      "\n",
      "Average validation loss: 1.2278  Accuracy: 2569/ 5040 (50.97%)\n",
      "\n",
      "New best loss & New model saved\n",
      "Epoch: 20\n",
      "[    0/45360 (  0%)]  Loss: 1.0636\n",
      "\n",
      "Average validation loss: 1.1703  Accuracy: 2443/ 5040 (48.47%)\n",
      "\n",
      "New best loss & New model saved\n",
      "Epoch: 21\n",
      "[    0/45360 (  0%)]  Loss: 1.3682\n",
      "\n",
      "Average validation loss: 1.1817  Accuracy: 2626/ 5040 (52.10%)\n",
      "\n",
      "Epoch: 22\n",
      "[    0/45360 (  0%)]  Loss: 1.1536\n",
      "\n",
      "Average validation loss: 1.1583  Accuracy: 2603/ 5040 (51.65%)\n",
      "\n",
      "New best loss & New model saved\n",
      "Epoch: 23\n",
      "[    0/45360 (  0%)]  Loss: 1.0027\n",
      "\n",
      "Average validation loss: 1.1376  Accuracy: 2754/ 5040 (54.64%)\n",
      "\n",
      "New best loss & New model saved\n",
      "Epoch: 24\n",
      "[    0/45360 (  0%)]  Loss: 0.9557\n",
      "\n",
      "Average validation loss: 1.1619  Accuracy: 2652/ 5040 (52.62%)\n",
      "\n",
      "Epoch: 25\n",
      "[    0/45360 (  0%)]  Loss: 1.1462\n",
      "\n",
      "Average validation loss: 1.1604  Accuracy: 2703/ 5040 (53.63%)\n",
      "\n",
      "Epoch: 26\n",
      "[    0/45360 (  0%)]  Loss: 1.1217\n",
      "\n",
      "Average validation loss: 1.2092  Accuracy: 2499/ 5040 (49.58%)\n",
      "\n",
      "Epoch: 27\n",
      "[    0/45360 (  0%)]  Loss: 1.3692\n",
      "\n",
      "Average validation loss: 1.1774  Accuracy: 2689/ 5040 (53.35%)\n",
      "\n",
      "Epoch: 28\n",
      "[    0/45360 (  0%)]  Loss: 1.0466\n"
     ]
    }
   ],
   "source": [
    "N_EPOCHS = 30\n",
    "\n",
    "start_time = time.time()\n",
    "model = ViT(image_size=28, patch_size=7, num_classes=10, channels=1,\n",
    "            dim=64, depth=6, heads=8, mlp_dim=128)\n",
    "optimizer = optim.Adam(model.parameters(), lr=0.003)\n",
    "\n",
    "best_loss = 90000000\n",
    "PATH = F\"second.pth\"\n",
    "\n",
    "device = torch.device(\"cuda:0\" if torch.cuda.is_available() else \"cpu\")\n",
    "model.to(device)\n",
    "train_loss_history, val_loss_history = [], []\n",
    "for epoch in range(1, N_EPOCHS + 1):\n",
    "    print('Epoch:', epoch)\n",
    "    train_epoch(model, optimizer, train_iterator, train_loss_history)\n",
    "    loss = evaluate(model, valid_iterator, val_loss_history)\n",
    "    if loss < best_loss:\n",
    "      best_loss = loss\n",
    "      torch.save(model.state_dict(), PATH)\n",
    "      print(\"New best loss & New model saved\")\n",
    "\n",
    "\n",
    "print('Execution time:', '{:5.2f}'.format(time.time() - start_time), 'seconds')"
   ]
  },
  {
   "cell_type": "code",
   "execution_count": 25,
   "metadata": {
    "id": "ZqrKfxGa1I4Q"
   },
   "outputs": [],
   "source": [
    "from torch.utils.data import DataLoader \n",
    "from torch.utils.data import Dataset\n",
    "from PIL import Image\n",
    "import natsort\n",
    "\n",
    "def test(model, data_loader):\n",
    "    model.eval()\n",
    "\n",
    "    with open('prediction.txt', 'w') as f:\n",
    "      with torch.no_grad():\n",
    "          for data in test_loader:\n",
    "              output = F.log_softmax(model(data), dim=1)\n",
    "              _, pred = torch.max(output, dim=1)\n",
    "              for i in pred.numpy():\n",
    "                f.write(str(i))\n",
    "                f.write('\\n')\n",
    "      f.close()\n",
    "\n",
    "\n",
    "class CustomDataSet(Dataset):\n",
    "    def __init__(self, main_dir, transform):\n",
    "        self.main_dir = main_dir\n",
    "        self.transform = transform\n",
    "        all_imgs = os.listdir(main_dir)\n",
    "        self.total_imgs = all_imgs\n",
    "\n",
    "    def __len__(self):\n",
    "        return len(self.total_imgs)\n",
    "\n",
    "    def __getitem__(self, idx):\n",
    "        img_loc = os.path.join(self.main_dir, self.total_imgs[idx])\n",
    "        image = Image.open(img_loc)\n",
    "        tensor_image = self.transform(image)\n",
    "        return tensor_image"
   ]
  },
  {
   "cell_type": "code",
   "execution_count": 33,
   "metadata": {
    "colab": {
     "base_uri": "https://localhost:8080/"
    },
    "executionInfo": {
     "elapsed": 998,
     "status": "ok",
     "timestamp": 1653691138951,
     "user": {
      "displayName": "Kaustubh Deshpande",
      "userId": "06528968480355418422"
     },
     "user_tz": 420
    },
    "id": "7ATtZh01Ni-0",
    "outputId": "041b6a19-9b36-445b-bc3d-66ffced5f9e6"
   },
   "outputs": [],
   "source": [
    "# %cd hw4_test\n",
    "# !find . -name '. DS_Store' -type f -delete\n",
    "# %cd ..\n",
    "\n",
    "test_path = 'hw4_test' \n",
    "\n",
    "my_dataset = CustomDataSet(test_path, transform=train_transforms)\n",
    "test_loader = data.DataLoader(my_dataset, batch_size=50, shuffle=False, drop_last = True)\n",
    "\n",
    "PATH = \"second.pth\"\n",
    "model = ViT(image_size=28, patch_size=7, num_classes=10, channels=1,\n",
    "            dim=64, depth=6, heads=8, mlp_dim=128)\n",
    "model.load_state_dict(torch.load (PATH))\n",
    "test(model, test_loader)"
   ]
  },
  {
   "cell_type": "code",
   "execution_count": null,
   "metadata": {},
   "outputs": [],
   "source": []
  },
  {
   "cell_type": "code",
   "execution_count": null,
   "metadata": {},
   "outputs": [],
   "source": []
  }
 ],
 "metadata": {
  "colab": {
   "authorship_tag": "ABX9TyPOVOUmwH/WAcyuW7sLEfT2",
   "collapsed_sections": [],
   "name": "train.ipynb",
   "provenance": []
  },
  "kernelspec": {
   "display_name": "Python 3",
   "language": "python",
   "name": "python3"
  },
  "language_info": {
   "codemirror_mode": {
    "name": "ipython",
    "version": 3
   },
   "file_extension": ".py",
   "mimetype": "text/x-python",
   "name": "python",
   "nbconvert_exporter": "python",
   "pygments_lexer": "ipython3",
   "version": "3.8.5"
  }
 },
 "nbformat": 4,
 "nbformat_minor": 1
}
